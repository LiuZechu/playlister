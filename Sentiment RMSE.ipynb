{
 "cells": [
  {
   "cell_type": "code",
   "execution_count": 13,
   "metadata": {},
   "outputs": [
    {
     "data": {
      "text/html": [
       "<div>\n",
       "<style scoped>\n",
       "    .dataframe tbody tr th:only-of-type {\n",
       "        vertical-align: middle;\n",
       "    }\n",
       "\n",
       "    .dataframe tbody tr th {\n",
       "        vertical-align: top;\n",
       "    }\n",
       "\n",
       "    .dataframe thead th {\n",
       "        text-align: right;\n",
       "    }\n",
       "</style>\n",
       "<table border=\"1\" class=\"dataframe\">\n",
       "  <thead>\n",
       "    <tr style=\"text-align: right;\">\n",
       "      <th></th>\n",
       "      <th>Give us a word or a phrase that describes how you want the playlist to feel.</th>\n",
       "      <th>What would you say is the sentiment of this phrase? (1 is most negative, 10 is most positive).</th>\n",
       "    </tr>\n",
       "  </thead>\n",
       "  <tbody>\n",
       "    <tr>\n",
       "      <th>0</th>\n",
       "      <td>fantastical reality</td>\n",
       "      <td>8</td>\n",
       "    </tr>\n",
       "    <tr>\n",
       "      <th>1</th>\n",
       "      <td>melodramatic</td>\n",
       "      <td>2</td>\n",
       "    </tr>\n",
       "    <tr>\n",
       "      <th>2</th>\n",
       "      <td>mellow</td>\n",
       "      <td>7</td>\n",
       "    </tr>\n",
       "    <tr>\n",
       "      <th>3</th>\n",
       "      <td>Like the feeling after you take a warm shower ...</td>\n",
       "      <td>9</td>\n",
       "    </tr>\n",
       "    <tr>\n",
       "      <th>4</th>\n",
       "      <td>rock</td>\n",
       "      <td>8</td>\n",
       "    </tr>\n",
       "  </tbody>\n",
       "</table>\n",
       "</div>"
      ],
      "text/plain": [
       "  Give us a word or a phrase that describes how you want the playlist to feel.  \\\n",
       "0                                fantastical reality                             \n",
       "1                                       melodramatic                             \n",
       "2                                             mellow                             \n",
       "3  Like the feeling after you take a warm shower ...                             \n",
       "4                                               rock                             \n",
       "\n",
       "   What would you say is the sentiment of this phrase? (1 is most negative, 10 is most positive).  \n",
       "0                                                  8                                               \n",
       "1                                                  2                                               \n",
       "2                                                  7                                               \n",
       "3                                                  9                                               \n",
       "4                                                  8                                               "
      ]
     },
     "execution_count": 13,
     "metadata": {},
     "output_type": "execute_result"
    }
   ],
   "source": [
    "import pandas as pd\n",
    "data = pd.read_excel('Project Survey (Responses).xlsx')\n",
    "data = data.iloc[:,[4,5]]\n",
    "data.head()"
   ]
  },
  {
   "cell_type": "code",
   "execution_count": 23,
   "metadata": {},
   "outputs": [
    {
     "data": {
      "text/html": [
       "<div>\n",
       "<style scoped>\n",
       "    .dataframe tbody tr th:only-of-type {\n",
       "        vertical-align: middle;\n",
       "    }\n",
       "\n",
       "    .dataframe tbody tr th {\n",
       "        vertical-align: top;\n",
       "    }\n",
       "\n",
       "    .dataframe thead th {\n",
       "        text-align: right;\n",
       "    }\n",
       "</style>\n",
       "<table border=\"1\" class=\"dataframe\">\n",
       "  <thead>\n",
       "    <tr style=\"text-align: right;\">\n",
       "      <th></th>\n",
       "      <th>Give us a word or a phrase that describes how you want the playlist to feel.</th>\n",
       "      <th>What would you say is the sentiment of this phrase? (1 is most negative, 10 is most positive).</th>\n",
       "      <th>Vader Value</th>\n",
       "    </tr>\n",
       "  </thead>\n",
       "  <tbody>\n",
       "    <tr>\n",
       "      <th>0</th>\n",
       "      <td>fantastical reality</td>\n",
       "      <td>8</td>\n",
       "      <td>7.294</td>\n",
       "    </tr>\n",
       "    <tr>\n",
       "      <th>1</th>\n",
       "      <td>melodramatic</td>\n",
       "      <td>2</td>\n",
       "      <td>5.000</td>\n",
       "    </tr>\n",
       "    <tr>\n",
       "      <th>2</th>\n",
       "      <td>mellow</td>\n",
       "      <td>7</td>\n",
       "      <td>5.000</td>\n",
       "    </tr>\n",
       "    <tr>\n",
       "      <th>3</th>\n",
       "      <td>Like the feeling after you take a warm shower ...</td>\n",
       "      <td>9</td>\n",
       "      <td>7.997</td>\n",
       "    </tr>\n",
       "    <tr>\n",
       "      <th>4</th>\n",
       "      <td>rock</td>\n",
       "      <td>8</td>\n",
       "      <td>5.000</td>\n",
       "    </tr>\n",
       "  </tbody>\n",
       "</table>\n",
       "</div>"
      ],
      "text/plain": [
       "  Give us a word or a phrase that describes how you want the playlist to feel.  \\\n",
       "0                                fantastical reality                             \n",
       "1                                       melodramatic                             \n",
       "2                                             mellow                             \n",
       "3  Like the feeling after you take a warm shower ...                             \n",
       "4                                               rock                             \n",
       "\n",
       "   What would you say is the sentiment of this phrase? (1 is most negative, 10 is most positive).  \\\n",
       "0                                                  8                                                \n",
       "1                                                  2                                                \n",
       "2                                                  7                                                \n",
       "3                                                  9                                                \n",
       "4                                                  8                                                \n",
       "\n",
       "   Vader Value  \n",
       "0        7.294  \n",
       "1        5.000  \n",
       "2        5.000  \n",
       "3        7.997  \n",
       "4        5.000  "
      ]
     },
     "execution_count": 23,
     "metadata": {},
     "output_type": "execute_result"
    }
   ],
   "source": [
    "from vaderSentiment.vaderSentiment import SentimentIntensityAnalyzer\n",
    "\n",
    "def get_vader_sentiment(string):\n",
    "    sid_obj = SentimentIntensityAnalyzer()\n",
    "    sentiment_dict = sid_obj.polarity_scores(string)\n",
    "    return 10 * (sentiment_dict['compound'] + 1) / 2\n",
    "\n",
    "data['Vader Value'] = data['Give us a word or a phrase that describes how you want the playlist to feel.'].apply(get_vader_sentiment)\n",
    "data.head()"
   ]
  },
  {
   "cell_type": "code",
   "execution_count": 24,
   "metadata": {},
   "outputs": [
    {
     "name": "stdout",
     "output_type": "stream",
     "text": [
      "RMSE:  1.9907985468566796\n",
      "MAE:  1.6540416666666664\n"
     ]
    }
   ],
   "source": [
    "from sklearn.metrics import mean_squared_error, mean_absolute_error\n",
    "print('RMSE: ',mean_squared_error(data.iloc[:,1], data.iloc[:,2],squared = False))\n",
    "print('MAE: ',mean_absolute_error(data.iloc[:,1], data.iloc[:,2]))"
   ]
  },
  {
   "cell_type": "code",
   "execution_count": null,
   "metadata": {},
   "outputs": [],
   "source": []
  }
 ],
 "metadata": {
  "kernelspec": {
   "display_name": "Python 3",
   "language": "python",
   "name": "python3"
  },
  "language_info": {
   "codemirror_mode": {
    "name": "ipython",
    "version": 3
   },
   "file_extension": ".py",
   "mimetype": "text/x-python",
   "name": "python",
   "nbconvert_exporter": "python",
   "pygments_lexer": "ipython3",
   "version": "3.8.3"
  }
 },
 "nbformat": 4,
 "nbformat_minor": 4
}
